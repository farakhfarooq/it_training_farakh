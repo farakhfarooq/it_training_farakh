{
  "nbformat": 4,
  "nbformat_minor": 0,
  "metadata": {
    "colab": {
      "provenance": []
    },
    "kernelspec": {
      "name": "python3",
      "display_name": "Python 3"
    },
    "language_info": {
      "name": "python"
    }
  },
  "cells": [
    {
      "cell_type": "markdown",
      "source": [
        "**Assignment-no-3 Python**"
      ],
      "metadata": {
        "id": "DuKdDP6VPLHf"
      }
    },
    {
      "cell_type": "markdown",
      "source": [
        "**Task-01**"
      ],
      "metadata": {
        "id": "oNIm4inFPUVQ"
      }
    },
    {
      "cell_type": "code",
      "execution_count": 2,
      "metadata": {
        "colab": {
          "base_uri": "https://localhost:8080/"
        },
        "id": "pMyZus7_PFsc",
        "outputId": "fbd879ad-3c67-40db-c993-44a6b757d959"
      },
      "outputs": [
        {
          "output_type": "stream",
          "name": "stdout",
          "text": [
            "Tasks:\n",
            "- Finish homework\n",
            "- Buy groceries\n"
          ]
        }
      ],
      "source": [
        "tasks = []\n",
        "def add_task(task):\n",
        "  tasks.append(task)\n",
        "def remove_task(task):\n",
        "  if task in tasks:\n",
        "    tasks.remove(task)\n",
        "def view_tasks():\n",
        "  print(\"Tasks:\")\n",
        "  for task in tasks:\n",
        "    print(\"- \" + task)\n",
        "add_task(\"Finish homework\")\n",
        "add_task(\"Buy groceries\")\n",
        "view_tasks()\n",
        "remove_task(\"Buy groceries\")"
      ]
    },
    {
      "cell_type": "markdown",
      "source": [
        "**Task-02**"
      ],
      "metadata": {
        "id": "srEy-_gHP6bc"
      }
    },
    {
      "cell_type": "code",
      "source": [
        "def max_min_finder(numbers):\n",
        "  if not numbers:\n",
        "    return None, None\n",
        "  maximum = numbers[0]\n",
        "  minimum = numbers[0]\n",
        "  for number in numbers:\n",
        "    if number > maximum:\n",
        "      maximum = number\n",
        "    if number < minimum:\n",
        "      minimum = number\n",
        "      return maximum, minimum\n",
        "numbers = [5, 2, 9, 1, 7]\n",
        "maximum, minimum = max_min_finder(numbers)\n",
        "print(\"Maximum:\", maximum)\n",
        "print(\"Minimum:\", minimum)"
      ],
      "metadata": {
        "colab": {
          "base_uri": "https://localhost:8080/"
        },
        "id": "llkY3X__PuLH",
        "outputId": "dac49268-bfff-40ee-c4eb-ef53e46ba496"
      },
      "execution_count": 3,
      "outputs": [
        {
          "output_type": "stream",
          "name": "stdout",
          "text": [
            "Maximum: 5\n",
            "Minimum: 2\n"
          ]
        }
      ]
    },
    {
      "cell_type": "markdown",
      "source": [
        "**Task-03**"
      ],
      "metadata": {
        "id": "fnD5HctsQIeg"
      }
    },
    {
      "cell_type": "code",
      "source": [
        "phonebook = {}\n",
        "def add_contact(name, number):\n",
        "  phonebook[name] = number\n",
        "\n",
        "def get_number(name):\n",
        "  return phonebook.get(name, \"Contact not found\")\n",
        "\n",
        "add_contact(\"Alice\", \"1234567890\")\n",
        "add_contact(\"Bob\", \"9876543210\")\n",
        "print(get_number(\"Alice\"))"
      ],
      "metadata": {
        "colab": {
          "base_uri": "https://localhost:8080/"
        },
        "id": "dUID0_JtQL2X",
        "outputId": "b9852bda-6bc5-4338-cb6b-65da5c824881"
      },
      "execution_count": 4,
      "outputs": [
        {
          "output_type": "stream",
          "name": "stdout",
          "text": [
            "1234567890\n"
          ]
        }
      ]
    },
    {
      "cell_type": "markdown",
      "source": [
        "**Task-04**"
      ],
      "metadata": {
        "id": "CcnGp0yJQgh-"
      }
    },
    {
      "cell_type": "code",
      "source": [
        "inventory = {}\n",
        "\n",
        "def add_item(item, quantity):\n",
        "  if item in inventory:\n",
        "    inventory[item] += quantity\n",
        "  else:\n",
        "    inventory[item] = quantity\n",
        "\n",
        "def remove_item(item, quantity):\n",
        "  if item in inventory and inventory[item] >= quantity:\n",
        "    inventory[item] -= quantity\n",
        "  if inventory[item] == 0:\n",
        "    del inventory[item]\n",
        "  else:\n",
        "    print(f\"Insufficient quantity of {item}.\")\n",
        "\n",
        "def view_inventory():\n",
        "  for item, quantity in inventory.items():\n",
        "    print(f\"{item}: {quantity}\")\n",
        "\n",
        "add_item(\"Apple\", 10)\n",
        "add_item(\"Banana\", 5)\n",
        "remove_item(\"Apple\", 3)\n",
        "view_inventory()\n"
      ],
      "metadata": {
        "colab": {
          "base_uri": "https://localhost:8080/"
        },
        "id": "naydvUH4QeB3",
        "outputId": "2cd2446e-e5d9-48a7-fa40-97b73cda57d2"
      },
      "execution_count": 5,
      "outputs": [
        {
          "output_type": "stream",
          "name": "stdout",
          "text": [
            "Insufficient quantity of Apple.\n",
            "Apple: 7\n",
            "Banana: 5\n"
          ]
        }
      ]
    },
    {
      "cell_type": "code",
      "source": [
        "def deposit(balance, amount):\n",
        "  balance += amount\n",
        "  print(f\"Deposited: {amount}. New balance: {balance}\")\n",
        "  return balance\n",
        "def withdraw(balance, amount):\n",
        "  if amount <= balance:\n",
        "    balance -= amount\n",
        "    print(f\"Withdrew: {amount}. New balance: {balance}\")\n",
        "  else:\n",
        "    print(\"Insufficient funds\")\n",
        "  return balance\n",
        "def check_balance(balance):\n",
        "  print(\"Current balance: {balance}\")\n",
        "\n",
        "balance = 1000\n",
        "balance = deposit(balance, 500)\n",
        "balance = withdraw(balance, 200)\n",
        "check_balance(balance)"
      ],
      "metadata": {
        "colab": {
          "base_uri": "https://localhost:8080/"
        },
        "id": "uA8T0rQeRYfo",
        "outputId": "78ad40e1-e538-473e-969f-8e2c5abfabf6"
      },
      "execution_count": 8,
      "outputs": [
        {
          "output_type": "stream",
          "name": "stdout",
          "text": [
            "Deposited: 500. New balance: 1500\n",
            "Withdrew: 200. New balance: 1300\n",
            "Current balance: {balance}\n"
          ]
        }
      ]
    },
    {
      "cell_type": "code",
      "source": [],
      "metadata": {
        "id": "5nJfjZbbRw35"
      },
      "execution_count": null,
      "outputs": []
    }
  ]
}