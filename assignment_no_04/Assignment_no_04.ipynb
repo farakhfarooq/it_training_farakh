{
  "nbformat": 4,
  "nbformat_minor": 0,
  "metadata": {
    "colab": {
      "provenance": []
    },
    "kernelspec": {
      "name": "python3",
      "display_name": "Python 3"
    },
    "language_info": {
      "name": "python"
    }
  },
  "cells": [
    {
      "cell_type": "markdown",
      "source": [
        "*First Question:*\n"
      ],
      "metadata": {
        "id": "mjPwNXgvsO2t"
      }
    },
    {
      "cell_type": "code",
      "source": [
        "import numpy as np\n",
        "\n",
        "# Global variables\n",
        "arr_1d = np.array([1, 2, 3, 4, 5])\n",
        "arr_2d = np.array([[1, 2, 3], [4, 5, 6], [7, 8, 9]])\n",
        "\n",
        "def basic_numpy_operations():\n",
        "    global arr_1d, arr_2d\n",
        "\n",
        "    print(\"1D Array:\", arr_1d)\n",
        "    print(\"2D Array:\\n\", arr_2d)\n",
        "\n",
        "    print(\"Sum of 1D Array:\", np.sum(arr_1d))\n",
        "    print(\"Mean of 2D Array:\", np.mean(arr_2d))\n",
        "    print(\"Transpose of 2D Array:\\n\", arr_2d.T)\n",
        "\n",
        "# Call the function\n",
        "basic_numpy_operations()\n"
      ],
      "metadata": {
        "colab": {
          "base_uri": "https://localhost:8080/"
        },
        "id": "VyKWTyc4sSsJ",
        "outputId": "50c8cc4e-3a11-4175-da58-be5ba3982a96"
      },
      "execution_count": 1,
      "outputs": [
        {
          "output_type": "stream",
          "name": "stdout",
          "text": [
            "1D Array: [1 2 3 4 5]\n",
            "2D Array:\n",
            " [[1 2 3]\n",
            " [4 5 6]\n",
            " [7 8 9]]\n",
            "Sum of 1D Array: 15\n",
            "Mean of 2D Array: 5.0\n",
            "Transpose of 2D Array:\n",
            " [[1 4 7]\n",
            " [2 5 8]\n",
            " [3 6 9]]\n"
          ]
        }
      ]
    },
    {
      "cell_type": "markdown",
      "source": [
        "**SEcond Question**"
      ],
      "metadata": {
        "id": "_akB-N3_sZrA"
      }
    },
    {
      "cell_type": "code",
      "source": [
        "import numpy as np\n",
        "\n",
        "def image_processing():\n",
        "    # Creating a grayscale image using a 2D NumPy array\n",
        "    image = np.random.randint(0, 256, (5, 5), dtype=np.uint8)\n",
        "    print(\"Original Image:\\n\", image)\n",
        "\n",
        "    # Slicing a portion of the image\n",
        "    cropped = image[1:4, 1:4]\n",
        "    print(\"Cropped Section:\\n\", cropped)\n",
        "\n",
        "    # Inverting colors\n",
        "    inverted_image = 255 - image\n",
        "    print(\"Inverted Image:\\n\", inverted_image)\n",
        "\n",
        "# Call the function\n",
        "image_processing()\n"
      ],
      "metadata": {
        "colab": {
          "base_uri": "https://localhost:8080/"
        },
        "id": "Z3qYdSeDseB0",
        "outputId": "4dd964cb-1819-4f55-f17b-4ddf73f084ab"
      },
      "execution_count": 2,
      "outputs": [
        {
          "output_type": "stream",
          "name": "stdout",
          "text": [
            "Original Image:\n",
            " [[ 88  24 193 163 193]\n",
            " [ 53  48  39  84  35]\n",
            " [ 64  59  58 174 241]\n",
            " [154 174  67  66 159]\n",
            " [ 39  68  79 233 180]]\n",
            "Cropped Section:\n",
            " [[ 48  39  84]\n",
            " [ 59  58 174]\n",
            " [174  67  66]]\n",
            "Inverted Image:\n",
            " [[167 231  62  92  62]\n",
            " [202 207 216 171 220]\n",
            " [191 196 197  81  14]\n",
            " [101  81 188 189  96]\n",
            " [216 187 176  22  75]]\n"
          ]
        }
      ]
    },
    {
      "cell_type": "markdown",
      "source": [
        "**Third Question**"
      ],
      "metadata": {
        "id": "s7yyjnxmtxoP"
      }
    },
    {
      "cell_type": "code",
      "source": [
        "import numpy as np\n",
        "import cv2\n",
        "\n",
        "def scale_image(image, scale_factor):\n",
        "    scaling_matrix = np.array([[scale_factor, 0, 0],\n",
        "                               [0, scale_factor, 0],\n",
        "                               [0, 0, 1]])\n",
        "    rows, cols = image.shape[:2]\n",
        "    scaled_image = cv2.warpPerspective(image, scaling_matrix, (cols, rows))\n",
        "    return scaled_image\n",
        "\n",
        "def rotate_image(image, angle):\n",
        "    rows, cols = image.shape[:2]\n",
        "    rotation_matrix = cv2.getRotationMatrix2D((cols / 2, rows / 2), angle, 1)\n",
        "    rotated_image = cv2.warpAffine(image, rotation_matrix, (cols, rows))\n",
        "    return rotated_image\n",
        "\n",
        "def translate_image(image, tx, ty):\n",
        "    translation_matrix = np.array([[1, 0, tx],\n",
        "                                   [0, 1, ty],\n",
        "                                   [0, 0, 1]])\n",
        "    rows, cols = image.shape[:2]\n",
        "    translated_image = cv2.warpPerspective(image, translation_matrix, (cols, rows))\n",
        "    return translated_image\n",
        "\n",
        "def image_processing():\n",
        "    image = cv2.imread('image.jpg')  # Use your own image\n",
        "    print(\"Original Image Shape:\", image.shape)\n",
        "\n",
        "    scaled_image = scale_image(image, 1.5)\n",
        "    rotated_image = rotate_image(image, 45)\n",
        "    translated_image = translate_image(image, 50, 30)\n",
        "\n",
        "    cv2.imshow('Original', image)\n",
        "    cv2.imshow('Scaled', scaled_image)\n",
        "    cv2.imshow('Rotated', rotated_image)\n",
        "    cv2.imshow('Translated', translated_image)\n",
        "    cv2.waitKey(0)\n",
        "    cv2.destroyAllWindows()\n",
        "\n",
        "# Call the function\n",
        "image_processing()\n"
      ],
      "metadata": {
        "colab": {
          "base_uri": "https://localhost:8080/",
          "height": 297
        },
        "id": "6FPWaKHbtlaw",
        "outputId": "bffb09e5-8fa3-4b95-c9c1-3afb752861dc"
      },
      "execution_count": 3,
      "outputs": [
        {
          "output_type": "error",
          "ename": "AttributeError",
          "evalue": "'NoneType' object has no attribute 'shape'",
          "traceback": [
            "\u001b[0;31m---------------------------------------------------------------------------\u001b[0m",
            "\u001b[0;31mAttributeError\u001b[0m                            Traceback (most recent call last)",
            "\u001b[0;32m<ipython-input-3-6e8fb7e43775>\u001b[0m in \u001b[0;36m<cell line: 0>\u001b[0;34m()\u001b[0m\n\u001b[1;32m     40\u001b[0m \u001b[0;34m\u001b[0m\u001b[0m\n\u001b[1;32m     41\u001b[0m \u001b[0;31m# Call the function\u001b[0m\u001b[0;34m\u001b[0m\u001b[0;34m\u001b[0m\u001b[0m\n\u001b[0;32m---> 42\u001b[0;31m \u001b[0mimage_processing\u001b[0m\u001b[0;34m(\u001b[0m\u001b[0;34m)\u001b[0m\u001b[0;34m\u001b[0m\u001b[0;34m\u001b[0m\u001b[0m\n\u001b[0m",
            "\u001b[0;32m<ipython-input-3-6e8fb7e43775>\u001b[0m in \u001b[0;36mimage_processing\u001b[0;34m()\u001b[0m\n\u001b[1;32m     26\u001b[0m \u001b[0;32mdef\u001b[0m \u001b[0mimage_processing\u001b[0m\u001b[0;34m(\u001b[0m\u001b[0;34m)\u001b[0m\u001b[0;34m:\u001b[0m\u001b[0;34m\u001b[0m\u001b[0;34m\u001b[0m\u001b[0m\n\u001b[1;32m     27\u001b[0m     \u001b[0mimage\u001b[0m \u001b[0;34m=\u001b[0m \u001b[0mcv2\u001b[0m\u001b[0;34m.\u001b[0m\u001b[0mimread\u001b[0m\u001b[0;34m(\u001b[0m\u001b[0;34m'image.jpg'\u001b[0m\u001b[0;34m)\u001b[0m  \u001b[0;31m# Use your own image\u001b[0m\u001b[0;34m\u001b[0m\u001b[0;34m\u001b[0m\u001b[0m\n\u001b[0;32m---> 28\u001b[0;31m     \u001b[0mprint\u001b[0m\u001b[0;34m(\u001b[0m\u001b[0;34m\"Original Image Shape:\"\u001b[0m\u001b[0;34m,\u001b[0m \u001b[0mimage\u001b[0m\u001b[0;34m.\u001b[0m\u001b[0mshape\u001b[0m\u001b[0;34m)\u001b[0m\u001b[0;34m\u001b[0m\u001b[0;34m\u001b[0m\u001b[0m\n\u001b[0m\u001b[1;32m     29\u001b[0m \u001b[0;34m\u001b[0m\u001b[0m\n\u001b[1;32m     30\u001b[0m     \u001b[0mscaled_image\u001b[0m \u001b[0;34m=\u001b[0m \u001b[0mscale_image\u001b[0m\u001b[0;34m(\u001b[0m\u001b[0mimage\u001b[0m\u001b[0;34m,\u001b[0m \u001b[0;36m1.5\u001b[0m\u001b[0;34m)\u001b[0m\u001b[0;34m\u001b[0m\u001b[0;34m\u001b[0m\u001b[0m\n",
            "\u001b[0;31mAttributeError\u001b[0m: 'NoneType' object has no attribute 'shape'"
          ]
        }
      ]
    },
    {
      "cell_type": "markdown",
      "source": [
        "**Forth Question**"
      ],
      "metadata": {
        "id": "NnOH7P7oulNp"
      }
    },
    {
      "cell_type": "code",
      "source": [
        "import numpy as np\n",
        "import cv2\n",
        "\n",
        "def scale_image(image, scale_factor):\n",
        "    scaling_matrix = np.array([[scale_factor, 0, 0],\n",
        "                               [0, scale_factor, 0],\n",
        "                               [0, 0, 1]])\n",
        "    rows, cols = image.shape[:2]\n",
        "    scaled_image = cv2.warpPerspective(image, scaling_matrix, (cols, rows))\n",
        "    return scaled_image\n",
        "\n",
        "def rotate_image(image, angle):\n",
        "    rows, cols = image.shape[:2]\n",
        "    rotation_matrix = cv2.getRotationMatrix2D((cols / 2, rows / 2), angle, 1)\n",
        "    rotated_image = cv2.warpAffine(image, rotation_matrix, (cols, rows))\n",
        "    return rotated_image\n",
        "\n",
        "def translate_image(image, tx, ty):\n",
        "    translation_matrix = np.array([[1, 0, tx],\n",
        "                                   [0, 1, ty],\n",
        "                                   [0, 0, 1]])\n",
        "    rows, cols = image.shape[:2]\n",
        "    translated_image = cv2.warpPerspective(image, translation_matrix, (cols, rows))\n",
        "    return translated_image\n",
        "\n",
        "def detect_faces(image_path):\n",
        "    image = cv2.imread(image_path)\n",
        "    image_gray = cv2.cvtColor(image, cv2.COLOR_BGR2GRAY)\n",
        "    face_cascade = cv2.CascadeClassifier(cv2.data.haarcascades + 'haarcascade_frontalface_default.xml')\n",
        "    faces = face_cascade.detectMultiScale(image_gray, scaleFactor=1.1, minNeighbors=5)\n",
        "\n",
        "    for (x, y, w, h) in faces:\n",
        "        face_region = image[y:y+h, x:x+w]\n",
        "        cv2.imshow('Face Region', face_region)\n",
        "\n",
        "        eyes_cascade = cv2.CascadeClassifier(cv2.data.haarcascades + 'haarcascade_eye.xml')\n",
        "        eyes = eyes_cascade.detectMultiScale(face_region, scaleFactor=1.1, minNeighbors=5)\n",
        "        for (ex, ey, ew, eh) in eyes:\n",
        "            eye_region = face_region[ey:ey+eh, ex:ex+ew]\n",
        "            cv2.imshow('Eye Region', eye_region)\n",
        "\n",
        "    cv2.imshow('Detected Faces', image)\n",
        "    cv2.waitKey(0)\n",
        "    cv2.destroyAllWindows()\n",
        "\n",
        "def image_processing():\n",
        "    image_path = 'image.jpg'  # Use your own image\n",
        "    image = cv2.imread(image_path)\n",
        "    print(\"Original Image Shape:\", image.shape)\n",
        "\n",
        "    scaled_image = scale_image(image, 1.5)\n",
        "    rotated_image = rotate_image(image, 45)\n",
        "    translated_image = translate_image(image, 50, 30)\n",
        "\n",
        "    cv2.imshow('Original', image)\n",
        "    cv2.imshow('Scaled', scaled_image)\n",
        "    cv2.imshow('Rotated', rotated_image)\n",
        "    cv2.imshow('Translated', translated_image)\n",
        "    cv2.waitKey(0)\n",
        "    cv2.destroyAllWindows()\n",
        "\n",
        "    detect_faces(image_path)\n",
        "\n",
        "# Call the function\n",
        "image_processing()\n"
      ],
      "metadata": {
        "colab": {
          "base_uri": "https://localhost:8080/",
          "height": 297
        },
        "id": "zLYMLOA2un2s",
        "outputId": "6c12dc50-383a-4137-f1b8-0366a17ebedc"
      },
      "execution_count": 4,
      "outputs": [
        {
          "output_type": "error",
          "ename": "AttributeError",
          "evalue": "'NoneType' object has no attribute 'shape'",
          "traceback": [
            "\u001b[0;31m---------------------------------------------------------------------------\u001b[0m",
            "\u001b[0;31mAttributeError\u001b[0m                            Traceback (most recent call last)",
            "\u001b[0;32m<ipython-input-4-7062f2d7ceaf>\u001b[0m in \u001b[0;36m<cell line: 0>\u001b[0;34m()\u001b[0m\n\u001b[1;32m     63\u001b[0m \u001b[0;34m\u001b[0m\u001b[0m\n\u001b[1;32m     64\u001b[0m \u001b[0;31m# Call the function\u001b[0m\u001b[0;34m\u001b[0m\u001b[0;34m\u001b[0m\u001b[0m\n\u001b[0;32m---> 65\u001b[0;31m \u001b[0mimage_processing\u001b[0m\u001b[0;34m(\u001b[0m\u001b[0;34m)\u001b[0m\u001b[0;34m\u001b[0m\u001b[0;34m\u001b[0m\u001b[0m\n\u001b[0m",
            "\u001b[0;32m<ipython-input-4-7062f2d7ceaf>\u001b[0m in \u001b[0;36mimage_processing\u001b[0;34m()\u001b[0m\n\u001b[1;32m     47\u001b[0m     \u001b[0mimage_path\u001b[0m \u001b[0;34m=\u001b[0m \u001b[0;34m'image.jpg'\u001b[0m  \u001b[0;31m# Use your own image\u001b[0m\u001b[0;34m\u001b[0m\u001b[0;34m\u001b[0m\u001b[0m\n\u001b[1;32m     48\u001b[0m     \u001b[0mimage\u001b[0m \u001b[0;34m=\u001b[0m \u001b[0mcv2\u001b[0m\u001b[0;34m.\u001b[0m\u001b[0mimread\u001b[0m\u001b[0;34m(\u001b[0m\u001b[0mimage_path\u001b[0m\u001b[0;34m)\u001b[0m\u001b[0;34m\u001b[0m\u001b[0;34m\u001b[0m\u001b[0m\n\u001b[0;32m---> 49\u001b[0;31m     \u001b[0mprint\u001b[0m\u001b[0;34m(\u001b[0m\u001b[0;34m\"Original Image Shape:\"\u001b[0m\u001b[0;34m,\u001b[0m \u001b[0mimage\u001b[0m\u001b[0;34m.\u001b[0m\u001b[0mshape\u001b[0m\u001b[0;34m)\u001b[0m\u001b[0;34m\u001b[0m\u001b[0;34m\u001b[0m\u001b[0m\n\u001b[0m\u001b[1;32m     50\u001b[0m \u001b[0;34m\u001b[0m\u001b[0m\n\u001b[1;32m     51\u001b[0m     \u001b[0mscaled_image\u001b[0m \u001b[0;34m=\u001b[0m \u001b[0mscale_image\u001b[0m\u001b[0;34m(\u001b[0m\u001b[0mimage\u001b[0m\u001b[0;34m,\u001b[0m \u001b[0;36m1.5\u001b[0m\u001b[0;34m)\u001b[0m\u001b[0;34m\u001b[0m\u001b[0;34m\u001b[0m\u001b[0m\n",
            "\u001b[0;31mAttributeError\u001b[0m: 'NoneType' object has no attribute 'shape'"
          ]
        }
      ]
    },
    {
      "cell_type": "code",
      "source": [],
      "metadata": {
        "id": "nODjNm6Du5Lj"
      },
      "execution_count": null,
      "outputs": []
    }
  ]
}