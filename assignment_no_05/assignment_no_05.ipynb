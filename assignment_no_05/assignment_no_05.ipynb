{
  "nbformat": 4,
  "nbformat_minor": 0,
  "metadata": {
    "colab": {
      "provenance": []
    },
    "kernelspec": {
      "name": "python3",
      "display_name": "Python 3"
    },
    "language_info": {
      "name": "python"
    }
  },
  "cells": [
    {
      "cell_type": "code",
      "execution_count": null,
      "metadata": {
        "id": "52wMeTyhwwiR"
      },
      "outputs": [],
      "source": []
    },
    {
      "cell_type": "markdown",
      "source": [
        "**Task_no_01**"
      ],
      "metadata": {
        "id": "mY6DO6u0CthT"
      }
    },
    {
      "cell_type": "code",
      "source": [
        "import glob as glob\n",
        "import os\n",
        "import pandas as pd\n",
        "import shutil\n",
        "\n",
        "\n",
        "files = glob.glob(\"/content/sample_data/*.csv\")\n",
        "for file in files:\n",
        "  shutil.move(file, \"/content/backup_folder/\")\n",
        "  print(f\"Moved file: {file}\")\n",
        "\n",
        "def export_data(df, filename, format):\n",
        "  if format == \"csv\":\n",
        "    df.to_csv(filename, index=False)\n",
        "    print(f\"Data exported to {filename} in CSV format.\")\n",
        "  elif format == \"json\":\n",
        "    df.to_json(filename, orient=\"records\")\n",
        "    print(f\"Data exported to {filename} in JSON format.\")\n",
        "  else:\n",
        "    print(\"Unsupported format.\")\n",
        "# Example usage:\n",
        "# Creating a sample dataframe\n",
        "data = {'Name': ['Alice', 'Bob', 'Charlie'],\n",
        "'Age': [25, 30, 35],\n",
        "'City': ['New York', 'Los Angeles', 'Chicago']}\n",
        "df = pd.DataFrame(data)\n",
        "# Exporting to CSV\n",
        "export_data(df, \"output.csv\", \"csv\")\n",
        "# Exporting to JSON\n",
        "export_data(df, \"output.json\", \"json\")"
      ],
      "metadata": {
        "id": "QYA2BPr3Cv_0",
        "colab": {
          "base_uri": "https://localhost:8080/"
        },
        "outputId": "8562df70-1163-483c-d11c-601f136f0a2b"
      },
      "execution_count": 12,
      "outputs": [
        {
          "output_type": "stream",
          "name": "stdout",
          "text": [
            "Data exported to output.csv in CSV format.\n",
            "Data exported to output.json in JSON format.\n"
          ]
        }
      ]
    },
    {
      "cell_type": "markdown",
      "source": [
        "**Task_no_2**"
      ],
      "metadata": {
        "id": "CDz22YG3HVTj"
      }
    },
    {
      "cell_type": "code",
      "source": [
        "import time\n",
        "import sqlite3\n",
        "import yfinance as yf\n",
        "import pandas as pd\n",
        "\n",
        "# Establish a connection to SQLite database\n",
        "conn = sqlite3.connect(\"stocks.db\")  # Creates a database file\n",
        "cursor = conn.cursor()\n",
        "\n",
        "# Create a table if it doesn't exist\n",
        "cursor.execute('''CREATE TABLE IF NOT EXISTS stock_data (\n",
        "    id INTEGER PRIMARY KEY AUTOINCREMENT,\n",
        "    symbol TEXT,\n",
        "    open REAL,\n",
        "    high REAL,\n",
        "    low REAL,\n",
        "    close REAL,\n",
        "    volume INTEGER,\n",
        "    timestamp DATETIME DEFAULT CURRENT_TIMESTAMP\n",
        ")''')\n",
        "conn.commit()  # Commit the table creation\n",
        "\n",
        "# Function to fetch stock data\n",
        "def fetch_stock_data(symbol):\n",
        "    try:\n",
        "        stock = yf.Ticker(symbol)\n",
        "        data = stock.history(period=\"1d\", interval=\"1m\")\n",
        "\n",
        "        if data.empty:\n",
        "            print(f\"No data found for {symbol}. Skipping...\")\n",
        "            return None  # Return None if no data is available\n",
        "\n",
        "        latest = data.iloc[-1]  # Get the most recent price data\n",
        "\n",
        "        return {\n",
        "            \"symbol\": symbol,\n",
        "            \"open\": latest[\"Open\"],\n",
        "            \"high\": latest[\"High\"],\n",
        "            \"low\": latest[\"Low\"],\n",
        "            \"close\": latest[\"Close\"],\n",
        "            \"volume\": latest[\"Volume\"]\n",
        "        }\n",
        "\n",
        "    except Exception as e:\n",
        "        print(f\"Error fetching data for {symbol}: {e}\")\n",
        "        return None\n",
        "\n",
        "# Function to store data in SQLite\n",
        "def store_data(symbol):\n",
        "    stock_data = fetch_stock_data(symbol)\n",
        "\n",
        "    if stock_data:  # Only store if data is available\n",
        "        cursor.execute('''INSERT INTO stock_data (symbol, open, high, low, close, volume)\n",
        "                          VALUES (?, ?, ?, ?, ?, ?)''',\n",
        "                       (stock_data[\"symbol\"], stock_data[\"open\"],\n",
        "                        stock_data[\"high\"], stock_data[\"low\"],\n",
        "                        stock_data[\"close\"], stock_data[\"volume\"]))\n",
        "        conn.commit()\n",
        "        print(f\"Stored data for {symbol}\")\n",
        "\n",
        "# Function to analyze stock data\n",
        "def analyze_stock(symbol):\n",
        "    df = pd.read_sql_query(\"SELECT * FROM stock_data WHERE symbol=? ORDER BY timestamp DESC LIMIT 100\",\n",
        "                           conn, params=(symbol,))\n",
        "    print(df)\n",
        "\n",
        "# Example Usage\n",
        "symbol = \"AAPL\"  # Apple stock\n",
        "for _ in range(5):  # Fetch data 5 times with intervals\n",
        "    store_data(symbol)\n",
        "\n",
        "# Analyze stored stock data\n",
        "analyze_stock(symbol)\n",
        "\n",
        "# Close database connection\n",
        "conn.close()\n"
      ],
      "metadata": {
        "id": "Admka-s7EpnA",
        "colab": {
          "base_uri": "https://localhost:8080/"
        },
        "outputId": "8a3b3ee3-c0d7-4caa-950a-bb4f803583dc"
      },
      "execution_count": 21,
      "outputs": [
        {
          "output_type": "stream",
          "name": "stdout",
          "text": [
            "Error fetching data for AAPL: Too Many Requests. Rate limited. Try after a while.\n",
            "Error fetching data for AAPL: Too Many Requests. Rate limited. Try after a while.\n",
            "Error fetching data for AAPL: Too Many Requests. Rate limited. Try after a while.\n",
            "Error fetching data for AAPL: Too Many Requests. Rate limited. Try after a while.\n",
            "Error fetching data for AAPL: Too Many Requests. Rate limited. Try after a while.\n",
            "Empty DataFrame\n",
            "Columns: [id, symbol, timestamp, open, high, low, close, volume]\n",
            "Index: []\n"
          ]
        }
      ]
    },
    {
      "cell_type": "code",
      "source": [],
      "metadata": {
        "id": "_r1OszqeKwwz"
      },
      "execution_count": 19,
      "outputs": []
    },
    {
      "cell_type": "markdown",
      "source": [
        "**Task_no_03**"
      ],
      "metadata": {
        "id": "6voLv79iM-WN"
      }
    },
    {
      "cell_type": "code",
      "source": [
        "import requests\n",
        "from bs4 import BeautifulSoup\n",
        "import pandas as pd\n",
        "URL = \"http://books.toscrape.com/\"\n",
        "HEADERS = {\"User-Agent\": \"Mozilla/5.0\"}\n",
        "def get_books(url):\n",
        "  response = requests.get(url, headers=HEADERS)\n",
        "  soup = BeautifulSoup(response.text, \"html.parser\")\n",
        "  books = soup.find_all(\"article\", class_=\"product_pod\")\n",
        "  book_list = []\n",
        "  for book in books:\n",
        "    title = book.h3.a[\"title\"]\n",
        "    price = book.find(\"p\", class_=\"price_color\").text\n",
        "    stock = book.find(\"p\", class_=\"instock availability\").text.strip()\n",
        "    book_list.append({\"Title\": title, \"Price\": price, \"Availability\":\n",
        "    stock})\n",
        "  return book_list\n",
        "books_data = get_books(URL)\n",
        "df = pd.DataFrame(books_data)\n",
        "df.to_csv(\"books.csv\", index=False)\n",
        "print(\"Data saved to books.csv\")"
      ],
      "metadata": {
        "colab": {
          "base_uri": "https://localhost:8080/"
        },
        "id": "zdNglEO0NAmX",
        "outputId": "aab51402-f7fe-4a8a-dbab-7c4f98577315"
      },
      "execution_count": 22,
      "outputs": [
        {
          "output_type": "stream",
          "name": "stdout",
          "text": [
            "Data saved to books.csv\n"
          ]
        }
      ]
    },
    {
      "cell_type": "code",
      "source": [],
      "metadata": {
        "id": "-WqLps4TNT3i"
      },
      "execution_count": null,
      "outputs": []
    }
  ]
}