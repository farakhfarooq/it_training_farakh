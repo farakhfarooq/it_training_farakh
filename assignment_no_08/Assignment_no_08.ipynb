{
  "nbformat": 4,
  "nbformat_minor": 0,
  "metadata": {
    "colab": {
      "provenance": []
    },
    "kernelspec": {
      "name": "python3",
      "display_name": "Python 3"
    },
    "language_info": {
      "name": "python"
    }
  },
  "cells": [
    {
      "cell_type": "markdown",
      "source": [
        "**Task_no_01**"
      ],
      "metadata": {
        "id": "eTXaJy0QWL2o"
      }
    },
    {
      "cell_type": "code",
      "execution_count": null,
      "metadata": {
        "colab": {
          "base_uri": "https://localhost:8080/",
          "height": 508
        },
        "id": "Q9cBV8DRWA5c",
        "outputId": "b7c511d4-e2a1-44fc-8c04-2e94f05f0ee4"
      },
      "outputs": [
        {
          "output_type": "stream",
          "name": "stdout",
          "text": [
            "Sales Forecast - MSE: 5678918601.24677\n",
            "Sales Forecast - R-squared: -25.84713285930597\n"
          ]
        },
        {
          "output_type": "display_data",
          "data": {
            "text/plain": [
              "<Figure size 640x480 with 1 Axes>"
            ],
            "image/png": "[encoded data removed]"
          },
          "metadata": {}
        }
      ],
      "source": [
        "import pandas as pd\n",
        "import numpy as np\n",
        "import matplotlib.pyplot as plt\n",
        "from sklearn.model_selection import train_test_split\n",
        "from sklearn.linear_model import LinearRegression\n",
        "from sklearn.metrics import mean_squared_error, r2_score\n",
        "\n",
        "# Creating the data for the code\n",
        "data_sales = pd.DataFrame({\n",
        "    'ad_budget': np.random.randint(1000, 10000, 10),\n",
        "    'discount_rate': np.random.uniform(0, 50, 10),\n",
        "    'season': np.random.choice(['Winter', 'Spring', 'Summer', 'Autumn'], 10),\n",
        "    'store_traffic': np.random.randint(100, 1000, 10),\n",
        "    'sales': np.random.randint(5000, 50000, 10)\n",
        "})\n",
        "\n",
        "# Encode 'season' using one-hot encoding\n",
        "data_sales = pd.get_dummies(data_sales, columns=['season'], drop_first=True)\n",
        "\n",
        "# Splitting into features and target variable\n",
        "X_sales = data_sales.drop(columns=['sales'])\n",
        "y_sales = data_sales['sales']\n",
        "\n",
        "# Splitting into train and test sets\n",
        "X_train_sales, X_test_sales, y_train_sales, y_test_sales = train_test_split(X_sales, y_sales, test_size=0.2, random_state=42)\n",
        "\n",
        "# Training the model and predicting the sales\n",
        "model_sales = LinearRegression()\n",
        "model_sales.fit(X_train_sales, y_train_sales)\n",
        "y_pred_sales = model_sales.predict(X_test_sales)\n",
        "\n",
        "# Calculating the error values\n",
        "mse_sales = mean_squared_error(y_test_sales, y_pred_sales)\n",
        "r2_sales = r2_score(y_test_sales, y_pred_sales)\n",
        "\n",
        "print(f\"Sales Forecast - MSE: {mse_sales}\")\n",
        "print(f\"Sales Forecast - R-squared: {r2_sales}\")\n",
        "\n",
        "# Plotting the predicted values against the actual values\n",
        "plt.scatter(y_test_sales, y_pred_sales)\n",
        "plt.xlabel(\"Actual Sales\")\n",
        "plt.ylabel(\"Predicted Sales\")\n",
        "plt.title(\"Actual vs Predicted Sales\")\n",
        "plt.show()\n"
      ]
    },
    {
      "cell_type": "markdown",
      "source": [
        "Task_no_02:"
      ],
      "metadata": {
        "id": "uN_1m8MxY7gO"
      }
    },
    {
      "cell_type": "code",
      "source": [
        "import pandas as pd\n",
        "import numpy as np\n",
        "import re\n",
        "import nltk\n",
        "from sklearn.feature_extraction.text import TfidfVectorizer\n",
        "from sklearn.model_selection import train_test_split\n",
        "from sklearn.svm import SVC\n",
        "from sklearn.metrics import accuracy_score, classification_report\n",
        "# Load dataset\n",
        "url = 'https://raw.githubusercontent.com/mohitgupta-1O1/Kaggle-SMS-Spam-Collection-Dataset-/master/spam.csv'\n",
        "df = pd.read_csv(url, encoding='latin-1')\n",
        "df = df.iloc[:, :-3]\n",
        "df.columns = [\"label\", \"message\"]\n",
        "df['label'] = df['label'].map({'ham': 0, 'spam': 1})\n",
        "# Text Preprocessing\n",
        "nltk.download('stopwords')\n",
        "from nltk.corpus import stopwords\n",
        "from nltk.stem import PorterStemmer\n",
        "ps = PorterStemmer()\n",
        "corpus = []\n",
        "for msg in df['message']:\n",
        "  msg = re.sub('[^a-zA-Z]', ' ', msg).lower().split()\n",
        "  msg = [ps.stem(word) for word in msg if word not in stopwords.words('english')]\n",
        "  corpus.append(\" \".join(msg))\n",
        "# Convert text into numerical features using TF-IDF\n",
        "vectorizer = TfidfVectorizer(max_features=5000)\n",
        "X = vectorizer.fit_transform(corpus).toarray()\n",
        "y = df['label'].values\n",
        "# Train-Test Split\n",
        "X_train, X_test, y_train, y_test = train_test_split(X, y, test_size=0.2,\n",
        "random_state=42)\n",
        "# Train SVM Model\n",
        "svm_model = SVC(kernel='linear')\n",
        "svm_model.fit(X_train, y_train)\n",
        "# Predict and Evaluate\n",
        "y_pred = svm_model.predict(X_test)\n",
        "print(\"Accuracy:\", accuracy_score(y_test, y_pred))"
      ],
      "metadata": {
        "id": "PS1V0d9sXD6-",
        "colab": {
          "base_uri": "https://localhost:8080/"
        },
        "outputId": "e7bd1b67-1005-4842-d830-259f8eef5865"
      },
      "execution_count": 13,
      "outputs": [
        {
          "output_type": "stream",
          "name": "stderr",
          "text": [
            "[nltk_data] Downloading package stopwords to /root/nltk_data...\n",
            "[nltk_data]   Unzipping corpora/stopwords.zip.\n"
          ]
        },
        {
          "output_type": "stream",
          "name": "stdout",
          "text": [
            "Accuracy: 0.97847533632287\n"
          ]
        }
      ]
    },
    {
      "cell_type": "markdown",
      "source": [
        "**Task_no_03**"
      ],
      "metadata": {
        "id": "y0TnJm6vaz-4"
      }
    },
    {
      "cell_type": "code",
      "source": [
        "import pandas as pd\n",
        "from sklearn.model_selection import train_test_split\n",
        "from sklearn.preprocessing import StandardScaler\n",
        "from sklearn.svm import SVC\n",
        "from sklearn.metrics import classification_report, accuracy_score\n",
        "# Load dataset\n",
        "df =pd.read_csv(\"https://storage.googleapis.com/download.tensorflow.org/data/creditcard.csv\")\n",
        "# Reduce dataset size for faster processing\n",
        "df = df.sample(frac=0.1, random_state=42)\n",
        "# Define features and target\n",
        "X = df.drop(columns=['Class'])\n",
        "y = df['Class']\n",
        "# Train-Test Split\n",
        "X_train, X_test, y_train, y_test = train_test_split(X, y, test_size=0.2,\n",
        "random_state=42)\n",
        "# Scale features\n",
        "scaler = StandardScaler()\n",
        "X_train = scaler.fit_transform(X_train)\n",
        "X_test = scaler.transform(X_test)\n",
        "# Train SVM Model\n",
        "svm_model = SVC(kernel='rbf', C=1, gamma='scale')\n",
        "svm_model.fit(X_train, y_train)\n",
        "# Predict and Evaluate\n",
        "y_pred = svm_model.predict(X_test)\n",
        "print(\"Accuracy:\", accuracy_score(y_test, y_pred))\n",
        "print(classification_report(y_test, y_pred))"
      ],
      "metadata": {
        "colab": {
          "base_uri": "https://localhost:8080/"
        },
        "id": "yVQV-9JOZmDv",
        "outputId": "30339228-7de6-4105-cf91-d7e5e5a995d3"
      },
      "execution_count": 16,
      "outputs": [
        {
          "output_type": "stream",
          "name": "stdout",
          "text": [
            "Accuracy: 0.9989468141126909\n",
            "              precision    recall  f1-score   support\n",
            "\n",
            "           0       1.00      1.00      1.00      5691\n",
            "           1       0.00      0.00      0.00         6\n",
            "\n",
            "    accuracy                           1.00      5697\n",
            "   macro avg       0.50      0.50      0.50      5697\n",
            "weighted avg       1.00      1.00      1.00      5697\n",
            "\n"
          ]
        },
        {
          "output_type": "stream",
          "name": "stderr",
          "text": [
            "/usr/local/lib/python3.11/dist-packages/sklearn/metrics/_classification.py:1565: UndefinedMetricWarning: Precision is ill-defined and being set to 0.0 in labels with no predicted samples. Use `zero_division` parameter to control this behavior.\n",
            "  _warn_prf(average, modifier, f\"{metric.capitalize()} is\", len(result))\n",
            "/usr/local/lib/python3.11/dist-packages/sklearn/metrics/_classification.py:1565: UndefinedMetricWarning: Precision is ill-defined and being set to 0.0 in labels with no predicted samples. Use `zero_division` parameter to control this behavior.\n",
            "  _warn_prf(average, modifier, f\"{metric.capitalize()} is\", len(result))\n",
            "/usr/local/lib/python3.11/dist-packages/sklearn/metrics/_classification.py:1565: UndefinedMetricWarning: Precision is ill-defined and being set to 0.0 in labels with no predicted samples. Use `zero_division` parameter to control this behavior.\n",
            "  _warn_prf(average, modifier, f\"{metric.capitalize()} is\", len(result))\n"
          ]
        }
      ]
    },
    {
      "cell_type": "markdown",
      "source": [
        "**Task_no_04**"
      ],
      "metadata": {
        "id": "b3LGdGz6bSPk"
      }
    },
    {
      "cell_type": "code",
      "source": [
        "import pandas as pd\n",
        "from sklearn.model_selection import train_test_split\n",
        "from sklearn.preprocessing import StandardScaler, LabelEncoder\n",
        "from sklearn.svm import SVC\n",
        "from sklearn.metrics import accuracy_score, classification_report\n",
        "# Load dataset\n",
        "url = 'https://raw.githubusercontent.com/albayraktaroglu/Datasets/master/churn.csv'\n",
        "df = pd.read_csv(url)\n",
        "df.head()\n",
        "# Encode categorical variables\n",
        "label_enc = LabelEncoder()\n",
        "for col in df.select_dtypes(include=['object']).columns:\n",
        "  df[col] = label_enc.fit_transform(df[col])\n",
        "# Define features and target variable\n",
        "X = df.drop(columns=['Churn?'])\n",
        "y = df['Churn?']\n",
        "# Train-Test Split\n",
        "X_train, X_test, y_train, y_test = train_test_split(X, y, test_size=0.2,\n",
        "random_state=42)\n",
        "# Scale features\n",
        "scaler = StandardScaler()\n",
        "X_train = scaler.fit_transform(X_train)\n",
        "X_test = scaler.transform(X_test)\n",
        "# Train SVM Model\n",
        "svm_model = SVC(kernel='rbf', C=1, gamma='scale')\n",
        "svm_model.fit(X_train, y_train)\n",
        "# Predict and Evaluate\n",
        "y_pred = svm_model.predict(X_test)\n",
        "print(\"Accuracy:\", accuracy_score(y_test, y_pred))\n",
        "print(classification_report(y_test, y_pred))"
      ],
      "metadata": {
        "colab": {
          "base_uri": "https://localhost:8080/"
        },
        "id": "8tqerJCPbGmp",
        "outputId": "592f04e9-bbcd-4658-c5ca-b36278c55917"
      },
      "execution_count": 27,
      "outputs": [
        {
          "output_type": "stream",
          "name": "stdout",
          "text": [
            "Accuracy: 0.9190404797601199\n",
            "              precision    recall  f1-score   support\n",
            "\n",
            "           0       0.92      0.99      0.95       566\n",
            "           1       0.90      0.52      0.66       101\n",
            "\n",
            "    accuracy                           0.92       667\n",
            "   macro avg       0.91      0.76      0.81       667\n",
            "weighted avg       0.92      0.92      0.91       667\n",
            "\n"
          ]
        }
      ]
    },
    {
      "cell_type": "code",
      "source": [],
      "metadata": {
        "id": "4B62KTy3bpPp"
      },
      "execution_count": null,
      "outputs": []
    }
  ]
}