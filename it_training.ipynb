{
  "nbformat": 4,
  "nbformat_minor": 0,
  "metadata": {
    "colab": {
      "provenance": []
    },
    "kernelspec": {
      "name": "python3",
      "display_name": "Python 3"
    },
    "language_info": {
      "name": "python"
    }
  },
  "cells": [
    {
      "cell_type": "markdown",
      "source": [
        "**Task-01:(The name upper or lower task)**"
      ],
      "metadata": {
        "id": "MLCpqjbqUWR7"
      }
    },
    {
      "cell_type": "code",
      "source": [
        "last_name = input(\"Enter you last name in capital letters \")"
      ],
      "metadata": {
        "colab": {
          "base_uri": "https://localhost:8080/"
        },
        "id": "lMNoWLgxUmlp",
        "outputId": "bfcf5a05-ad2f-4cd2-822d-5236dcabfd9c"
      },
      "execution_count": 8,
      "outputs": [
        {
          "name": "stdout",
          "output_type": "stream",
          "text": [
            "Enter you last name in capital letters farakh\n"
          ]
        }
      ]
    },
    {
      "cell_type": "code",
      "source": [
        "first_name = input(\"Enter your first name in lower letters  \")"
      ],
      "metadata": {
        "colab": {
          "base_uri": "https://localhost:8080/"
        },
        "id": "3aDW0zILUeXj",
        "outputId": "4c40f1e1-7492-48f3-eb23-0809fb491e49"
      },
      "execution_count": 9,
      "outputs": [
        {
          "name": "stdout",
          "output_type": "stream",
          "text": [
            "Enter your first name in lower letters  FAROOQ\n"
          ]
        }
      ]
    },
    {
      "cell_type": "code",
      "source": [
        "first_name_upper = first_name.upper()\n",
        "last_name_lower = last_name.lower()\n",
        "the_length = len(first_name )+ len(last_name)"
      ],
      "metadata": {
        "id": "6C4esPh1UsxB"
      },
      "execution_count": 10,
      "outputs": []
    },
    {
      "cell_type": "code",
      "source": [
        "print(f\"First Name upper = {first_name_upper}\")\n",
        "print(f\"Last Name upper = {last_name_lower}\")\n",
        "print(f\"The length of both {the_length}\")"
      ],
      "metadata": {
        "colab": {
          "base_uri": "https://localhost:8080/"
        },
        "id": "A8e3FLZGVDZJ",
        "outputId": "0a4348f8-b0cd-4e87-e79f-d876b55609fc"
      },
      "execution_count": 11,
      "outputs": [
        {
          "output_type": "stream",
          "name": "stdout",
          "text": [
            "First Name upper = FAROOQ\n",
            "Last Name upper = farakh\n",
            "The length of both 12\n"
          ]
        }
      ]
    },
    {
      "cell_type": "markdown",
      "source": [
        "**Task-02: The Caculcator**\n"
      ],
      "metadata": {
        "id": "tw2qfVxrV74n"
      }
    },
    {
      "cell_type": "code",
      "source": [
        "print(\"Calculate the area of following shapes:\")\n",
        "print(\"1. Circle\")\n",
        "print(\"2. Rectangle\")\n",
        "print(\"3. Square\")\n",
        "print(\"4. Triangle\")\n",
        "print(\"Find the Area of the Circle\")"
      ],
      "metadata": {
        "colab": {
          "base_uri": "https://localhost:8080/"
        },
        "id": "5VyruMepWD9W",
        "outputId": "0765303c-c2fa-41fb-8ffb-c53ab681db72"
      },
      "execution_count": 12,
      "outputs": [
        {
          "output_type": "stream",
          "name": "stdout",
          "text": [
            "Calculate the area of following shapes:\n",
            "1. Circle\n",
            "2. Rectangle\n",
            "3. Square\n",
            "4. Triangle\n",
            "Find the Area of the Circle\n"
          ]
        }
      ]
    },
    {
      "cell_type": "markdown",
      "source": [
        "**Area of Circle Calculator**\n"
      ],
      "metadata": {
        "id": "udfLaDEIWpa3"
      }
    },
    {
      "cell_type": "code",
      "source": [
        "radius = float(input(\"Enter the Radius of the circle\"))"
      ],
      "metadata": {
        "colab": {
          "base_uri": "https://localhost:8080/"
        },
        "id": "kkIjEwxrWn3l",
        "outputId": "8dcd14cf-1eb8-4d3c-9133-5c4776b2e549"
      },
      "execution_count": 13,
      "outputs": [
        {
          "name": "stdout",
          "output_type": "stream",
          "text": [
            "Enter the Radius of the circle45\n"
          ]
        }
      ]
    },
    {
      "cell_type": "code",
      "source": [
        "area_of_circle = 3.14 * radius**2"
      ],
      "metadata": {
        "id": "yP2F53CjW3Qd"
      },
      "execution_count": 14,
      "outputs": []
    },
    {
      "cell_type": "markdown",
      "source": [
        "**The area of Rectagnle**"
      ],
      "metadata": {
        "id": "uohXc-2dXJm7"
      }
    },
    {
      "cell_type": "code",
      "source": [
        "print(\"Find the area of Rectangle\")\n",
        "length = float(input(\"Enter the length of Rectangle \"))\n",
        "width = float(input(\"Enter the width of Rectangle \"))\n",
        "area_of_rectangle = length*width"
      ],
      "metadata": {
        "colab": {
          "base_uri": "https://localhost:8080/"
        },
        "id": "XwQI6vGvXHjl",
        "outputId": "7c3f5f92-e8fe-4e80-849d-ae1ad63b8236"
      },
      "execution_count": 16,
      "outputs": [
        {
          "output_type": "stream",
          "name": "stdout",
          "text": [
            "Find the area of Rectangle\n",
            "Enter the length of Rectangle 34\n",
            "Enter the width of Rectangle 2\n",
            "The are of rectangel = 68\n"
          ]
        }
      ]
    },
    {
      "cell_type": "code",
      "source": [],
      "metadata": {
        "id": "_URlldYTXpOo"
      },
      "execution_count": null,
      "outputs": []
    },
    {
      "cell_type": "markdown",
      "source": [
        "**The area of square**"
      ],
      "metadata": {
        "id": "fXOQLQrPX8ix"
      }
    },
    {
      "cell_type": "code",
      "source": [
        "print(\"Find the area of Rectangle\")\n",
        "length = float(input(\"Enter the length of the square \"))\n",
        "area_of_square = length*length"
      ],
      "metadata": {
        "colab": {
          "base_uri": "https://localhost:8080/"
        },
        "id": "swk0IfTkX_c2",
        "outputId": "a886f9ab-a056-4854-dd0e-e6dc3752fc01"
      },
      "execution_count": 17,
      "outputs": [
        {
          "name": "stdout",
          "output_type": "stream",
          "text": [
            "Find the area of Rectangle\n",
            "Enter the length of the square 12\n"
          ]
        }
      ]
    },
    {
      "cell_type": "code",
      "source": [],
      "metadata": {
        "id": "PGLbvGFwYM7o"
      },
      "execution_count": null,
      "outputs": []
    },
    {
      "cell_type": "markdown",
      "source": [
        "**The area of triangle**"
      ],
      "metadata": {
        "id": "w49CUNFkYQHI"
      }
    },
    {
      "cell_type": "code",
      "source": [
        "print(\"Find the are of Triangle\")\n",
        "base = float(input(\"Enter the base of the triangle\"))\n",
        "height = float(input(\"Enter the height of the triangle\"))\n",
        "area_of_triangle = 0.5 * base * height"
      ],
      "metadata": {
        "colab": {
          "base_uri": "https://localhost:8080/"
        },
        "id": "aylGRTSMYTGy",
        "outputId": "791620f6-4afa-46c9-be77-d646502b2076"
      },
      "execution_count": 18,
      "outputs": [
        {
          "name": "stdout",
          "output_type": "stream",
          "text": [
            "Find the are of Triangle\n",
            "Enter the base of the triangle12\n",
            "Enter the height of the triangle12\n"
          ]
        }
      ]
    },
    {
      "cell_type": "code",
      "source": [
        "\n",
        "print(f\"The area of the circle is: {area_of_circle}\")\n",
        "print(f\"The area of the rectangle is: {area_of_rectangle}\")\n",
        "print(f\"The area of the square is: {area_of_square}\")\n",
        "print(f\"The area of the triangle is: {area_of_triangle}\")\n"
      ],
      "metadata": {
        "colab": {
          "base_uri": "https://localhost:8080/"
        },
        "id": "8h5PvTLkYlp9",
        "outputId": "1be91ad7-ffdc-4c98-aa60-ec4014af3eae"
      },
      "execution_count": 20,
      "outputs": [
        {
          "output_type": "stream",
          "name": "stdout",
          "text": [
            "The area of the circle is: 6358.5\n",
            "The area of the rectangle is: 68\n",
            "The area of the square is: 144.0\n",
            "The area of the triangle is: 72.0\n"
          ]
        }
      ]
    },
    {
      "cell_type": "markdown",
      "source": [
        "**Task-03 :The password color Generator**"
      ],
      "metadata": {
        "id": "1bV8_PkoZSuP"
      }
    },
    {
      "cell_type": "code",
      "source": [
        "import random"
      ],
      "metadata": {
        "id": "vhnV76ZqZWBt"
      },
      "execution_count": 21,
      "outputs": []
    },
    {
      "cell_type": "code",
      "source": [
        "colors = [\"red\",\"blue\",\"brown\",\"orange\",\"purple\"]\n",
        "number = random.randint(0,len(colors)-1)"
      ],
      "metadata": {
        "id": "NenoIZZhZcWY"
      },
      "execution_count": 22,
      "outputs": []
    },
    {
      "cell_type": "code",
      "source": [
        "selected_color = colors[number]"
      ],
      "metadata": {
        "id": "mceQcjJ0Z7NL"
      },
      "execution_count": 24,
      "outputs": []
    },
    {
      "cell_type": "code",
      "source": [
        "password = selected_color[::-1]"
      ],
      "metadata": {
        "id": "qAlr2CbDaSyG"
      },
      "execution_count": 25,
      "outputs": []
    },
    {
      "cell_type": "code",
      "source": [
        "print(f\"Selected Color {selected_color}\")\n",
        "print(f\"Password {password}\")"
      ],
      "metadata": {
        "colab": {
          "base_uri": "https://localhost:8080/"
        },
        "id": "YtkOLUfVaW7u",
        "outputId": "c0204759-cd62-46de-838a-7bcb918f4819"
      },
      "execution_count": 26,
      "outputs": [
        {
          "output_type": "stream",
          "name": "stdout",
          "text": [
            "Selected Color red\n",
            "Password der\n"
          ]
        }
      ]
    },
    {
      "cell_type": "code",
      "source": [],
      "metadata": {
        "id": "_ZHnPFZSaewz"
      },
      "execution_count": null,
      "outputs": []
    }
  ]
}